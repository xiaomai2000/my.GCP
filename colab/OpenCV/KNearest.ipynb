{
  "cells": [
    {
      "cell_type": "code",
      "execution_count": null,
      "id": "36822375",
      "metadata": {
        "id": "36822375"
      },
      "outputs": [],
      "source": [
        "import os"
      ]
    },
    {
      "cell_type": "code",
      "execution_count": 3,
      "id": "96047a37",
      "metadata": {
        "id": "96047a37"
      },
      "outputs": [],
      "source": [
        "import cv2\n",
        "import numpy as np\n",
        "from matplotlib import pyplot as plt"
      ]
    },
    {
      "cell_type": "code",
      "source": [
        "img = cv2.imread('digits.png',0)"
      ],
      "metadata": {
        "id": "FBWjwmr8vunz"
      },
      "id": "FBWjwmr8vunz",
      "execution_count": 12,
      "outputs": []
    },
    {
      "cell_type": "code",
      "source": [
        "print(img)"
      ],
      "metadata": {
        "id": "9gQJVahtxbE8",
        "outputId": "12435053-e90c-4fac-fab6-7ac04ee2ab15",
        "colab": {
          "base_uri": "https://localhost:8080/"
        }
      },
      "id": "9gQJVahtxbE8",
      "execution_count": 13,
      "outputs": [
        {
          "output_type": "stream",
          "name": "stdout",
          "text": [
            "[[0 0 0 ... 0 0 0]\n",
            " [0 0 0 ... 0 0 0]\n",
            " [0 0 0 ... 0 0 0]\n",
            " ...\n",
            " [0 0 0 ... 0 0 0]\n",
            " [0 0 0 ... 0 0 0]\n",
            " [0 0 0 ... 0 0 0]]\n"
          ]
        }
      ]
    },
    {
      "cell_type": "code",
      "source": [
        "# Split the image to 5000 cells, each of 20*20 size"
      ],
      "metadata": {
        "id": "MdonqjsKwDoA"
      },
      "id": "MdonqjsKwDoA",
      "execution_count": 5,
      "outputs": []
    },
    {
      "cell_type": "code",
      "source": [
        "cells = [np.hsplit(row,100) for row in np.vsplit(img,20)]"
      ],
      "metadata": {
        "id": "SK5wsf0AwkbV"
      },
      "id": "SK5wsf0AwkbV",
      "execution_count": 14,
      "outputs": []
    },
    {
      "cell_type": "code",
      "source": [
        "#cells"
      ],
      "metadata": {
        "id": "7izbvdzqx6GU"
      },
      "id": "7izbvdzqx6GU",
      "execution_count": 16,
      "outputs": []
    },
    {
      "cell_type": "code",
      "source": [
        "x = np.array(cells)"
      ],
      "metadata": {
        "id": "3DsMpnEsyuJg"
      },
      "id": "3DsMpnEsyuJg",
      "execution_count": 17,
      "outputs": []
    },
    {
      "cell_type": "code",
      "source": [
        "train = x[:, :50].reshape(-1, 400).astype(np.float32)"
      ],
      "metadata": {
        "id": "J7NTNLt5_YPK"
      },
      "id": "J7NTNLt5_YPK",
      "execution_count": 18,
      "outputs": []
    },
    {
      "cell_type": "code",
      "source": [
        "test = x[:,50:100].reshape(-1, 400).astype(np.float32)"
      ],
      "metadata": {
        "id": "8pMrnx_0_fgZ"
      },
      "id": "8pMrnx_0_fgZ",
      "execution_count": 19,
      "outputs": []
    },
    {
      "cell_type": "code",
      "source": [
        "# Create labels for train and test data\n",
        "k = np.arange(10)\n",
        "train_labels = np.repeat(k,250)[:, np.newaxis]"
      ],
      "metadata": {
        "id": "PXi6Djy5_pBb"
      },
      "id": "PXi6Djy5_pBb",
      "execution_count": 20,
      "outputs": []
    },
    {
      "cell_type": "code",
      "source": [
        "test_labels = train_labels.copy()"
      ],
      "metadata": {
        "id": "dSagogqY_07O"
      },
      "id": "dSagogqY_07O",
      "execution_count": 21,
      "outputs": []
    },
    {
      "cell_type": "code",
      "source": [
        "knn = cv2.ml.KNearest_create()"
      ],
      "metadata": {
        "id": "p6GJ3WBD_5c5"
      },
      "id": "p6GJ3WBD_5c5",
      "execution_count": 22,
      "outputs": []
    },
    {
      "cell_type": "code",
      "source": [
        "knn"
      ],
      "metadata": {
        "id": "_8yTA2W__8O9",
        "outputId": "34f61fb6-e744-4212-da26-b94222d3989d",
        "colab": {
          "base_uri": "https://localhost:8080/"
        }
      },
      "id": "_8yTA2W__8O9",
      "execution_count": 23,
      "outputs": [
        {
          "output_type": "execute_result",
          "data": {
            "text/plain": [
              "< cv2.ml.KNearest 0x7f7daf9484d0>"
            ]
          },
          "metadata": {},
          "execution_count": 23
        }
      ]
    },
    {
      "cell_type": "code",
      "source": [
        "knn.train(train, cv2.ml.ROW_SAMPLE, train_labels)"
      ],
      "metadata": {
        "id": "hR06AYZxAFCY",
        "outputId": "b557971a-6639-40b9-bfbd-eb7d1ba2d87a",
        "colab": {
          "base_uri": "https://localhost:8080/"
        }
      },
      "id": "hR06AYZxAFCY",
      "execution_count": 24,
      "outputs": [
        {
          "output_type": "execute_result",
          "data": {
            "text/plain": [
              "True"
            ]
          },
          "metadata": {},
          "execution_count": 24
        }
      ]
    },
    {
      "cell_type": "code",
      "source": [
        "ret, result, neighbours, dist = knn.findNearest(test, k=5)"
      ],
      "metadata": {
        "id": "jre8dnWvAJtI"
      },
      "id": "jre8dnWvAJtI",
      "execution_count": 27,
      "outputs": []
    },
    {
      "cell_type": "code",
      "source": [
        "# Check the accurary of clarification\n",
        "matches = result == test_labels"
      ],
      "metadata": {
        "id": "QTtyitn5AQOQ"
      },
      "id": "QTtyitn5AQOQ",
      "execution_count": 28,
      "outputs": []
    },
    {
      "cell_type": "code",
      "source": [
        "correct = np.count_nonzero(matches)"
      ],
      "metadata": {
        "id": "B8SdW6s3AW4F"
      },
      "id": "B8SdW6s3AW4F",
      "execution_count": 29,
      "outputs": []
    },
    {
      "cell_type": "code",
      "source": [
        "accuracy = correct*100/result.size"
      ],
      "metadata": {
        "id": "VihevsFqAdkw"
      },
      "id": "VihevsFqAdkw",
      "execution_count": 31,
      "outputs": []
    },
    {
      "cell_type": "code",
      "source": [
        "print(\"Accuracy is: \", accuracy, \"%\")"
      ],
      "metadata": {
        "id": "_OfSumiWAf4_",
        "outputId": "d6444eac-9cb5-4255-8e6e-d6349432f67d",
        "colab": {
          "base_uri": "https://localhost:8080/"
        }
      },
      "id": "_OfSumiWAf4_",
      "execution_count": 33,
      "outputs": [
        {
          "output_type": "stream",
          "name": "stdout",
          "text": [
            "Accuracy is:  85.28 %\n"
          ]
        }
      ]
    },
    {
      "cell_type": "code",
      "source": [],
      "metadata": {
        "id": "TextbZJ0AkrO"
      },
      "id": "TextbZJ0AkrO",
      "execution_count": null,
      "outputs": []
    }
  ],
  "metadata": {
    "kernelspec": {
      "display_name": "Python 3 (ipykernel)",
      "language": "python",
      "name": "python3"
    },
    "language_info": {
      "codemirror_mode": {
        "name": "ipython",
        "version": 3
      },
      "file_extension": ".py",
      "mimetype": "text/x-python",
      "name": "python",
      "nbconvert_exporter": "python",
      "pygments_lexer": "ipython3",
      "version": "3.9.13"
    },
    "colab": {
      "provenance": []
    }
  },
  "nbformat": 4,
  "nbformat_minor": 5
}