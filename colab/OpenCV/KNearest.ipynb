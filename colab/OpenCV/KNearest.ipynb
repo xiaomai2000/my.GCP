{
  "cells": [
    {
      "cell_type": "code",
      "execution_count": null,
      "id": "36822375",
      "metadata": {
        "id": "36822375"
      },
      "outputs": [],
      "source": [
        "import os"
      ]
    },
    {
      "cell_type": "code",
      "execution_count": 3,
      "id": "96047a37",
      "metadata": {
        "id": "96047a37"
      },
      "outputs": [],
      "source": [
        "import cv2\n",
        "import numpy as np\n",
        "from matplotlib import pyplot as plt"
      ]
    },
    {
      "cell_type": "code",
      "source": [
        "img = cv2.imread('digits.png',0)"
      ],
      "metadata": {
        "id": "FBWjwmr8vunz"
      },
      "id": "FBWjwmr8vunz",
      "execution_count": 4,
      "outputs": []
    },
    {
      "cell_type": "code",
      "source": [],
      "metadata": {
        "id": "MdonqjsKwDoA"
      },
      "id": "MdonqjsKwDoA",
      "execution_count": null,
      "outputs": []
    }
  ],
  "metadata": {
    "kernelspec": {
      "display_name": "Python 3 (ipykernel)",
      "language": "python",
      "name": "python3"
    },
    "language_info": {
      "codemirror_mode": {
        "name": "ipython",
        "version": 3
      },
      "file_extension": ".py",
      "mimetype": "text/x-python",
      "name": "python",
      "nbconvert_exporter": "python",
      "pygments_lexer": "ipython3",
      "version": "3.9.13"
    },
    "colab": {
      "provenance": []
    }
  },
  "nbformat": 4,
  "nbformat_minor": 5
}