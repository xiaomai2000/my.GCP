{
 "cells": [
  {
   "cell_type": "code",
   "execution_count": 29,
   "id": "a04953df",
   "metadata": {},
   "outputs": [],
   "source": [
    "# Create repository"
   ]
  },
  {
   "cell_type": "code",
   "execution_count": 30,
   "id": "3e1745d9",
   "metadata": {},
   "outputs": [],
   "source": [
    "#Reference https://www.cloudskillsboost.google/focuses/1002?parent=catalog\n"
   ]
  },
  {
   "cell_type": "code",
   "execution_count": 31,
   "id": "3f3abb24",
   "metadata": {},
   "outputs": [],
   "source": [
    "from IPython.display import Image\n",
    "from IPython.core.display import HTML "
   ]
  },
  {
   "cell_type": "markdown",
   "id": "e73ce22f",
   "metadata": {},
   "source": [
    "### 1. Create repos\n",
    "<font color='blue'>gcloud source repos create REPO_DEMO  </font>"
   ]
  },
  {
   "cell_type": "code",
   "execution_count": 32,
   "id": "67acc0eb",
   "metadata": {},
   "outputs": [
    {
     "data": {
      "text/html": [
       "<img src=\"./img/1.png\"/>"
      ],
      "text/plain": [
       "<IPython.core.display.Image object>"
      ]
     },
     "metadata": {},
     "output_type": "display_data"
    }
   ],
   "source": [
    "display(Image(url= \"./img/1.png\"))"
   ]
  },
  {
   "cell_type": "markdown",
   "id": "8fa6d9df",
   "metadata": {},
   "source": [
    "### 2. Clone the contents to cloud shell\n",
    "<font color='blue'> gcloud source repos clone REPO_DEMO </font>\n"
   ]
  },
  {
   "cell_type": "code",
   "execution_count": 33,
   "id": "1eaf280e",
   "metadata": {},
   "outputs": [
    {
     "data": {
      "text/html": [
       "<img src=\"./img/2.png\"/>"
      ],
      "text/plain": [
       "<IPython.core.display.Image object>"
      ]
     },
     "metadata": {},
     "output_type": "display_data"
    }
   ],
   "source": [
    "display(Image(url= \"./img/2.png\"))"
   ]
  },
  {
   "cell_type": "code",
   "execution_count": null,
   "id": "44642e29",
   "metadata": {},
   "outputs": [],
   "source": []
  },
  {
   "cell_type": "markdown",
   "id": "71583408",
   "metadata": {},
   "source": [
    "### 3. Push the codes to Cloud repos"
   ]
  },
  {
   "cell_type": "markdown",
   "id": "f61b7ffa",
   "metadata": {},
   "source": [
    "#### <font color='blue'> cd REPO_DEMO </font>\n",
    "#### <font color='blue'>  echo 'Hello World!' > myfile.txt </font>\n",
    "#### <font color='blue'>   git config --global user.email \"you@example.com\" </font>\n",
    "#### <font color='blue'>  git config --global user.name \"Your Name\" </font>"
   ]
  },
  {
   "cell_type": "code",
   "execution_count": 34,
   "id": "e5c4b4ba",
   "metadata": {},
   "outputs": [],
   "source": [
    "#"
   ]
  },
  {
   "cell_type": "markdown",
   "id": "079d239d",
   "metadata": {},
   "source": [
    "#### <font color='blue'>  git add myfile.txt  </font>\n",
    "#### <font color='blue'>  git commit -m \"First file using Cloud Source Repositories\" myfile.txt  </font>"
   ]
  },
  {
   "cell_type": "code",
   "execution_count": 35,
   "id": "4f1386c3",
   "metadata": {},
   "outputs": [
    {
     "data": {
      "text/html": [
       "<img src=\"./img/add.png\"/>"
      ],
      "text/plain": [
       "<IPython.core.display.Image object>"
      ]
     },
     "metadata": {},
     "output_type": "display_data"
    }
   ],
   "source": [
    "display(Image(url= \"./img/add.png\"))"
   ]
  },
  {
   "cell_type": "code",
   "execution_count": null,
   "id": "7f23dd95",
   "metadata": {},
   "outputs": [],
   "source": []
  },
  {
   "cell_type": "markdown",
   "id": "5a2c00e4",
   "metadata": {},
   "source": [
    "####  <font color='blue'> git push origin master  </font>"
   ]
  },
  {
   "cell_type": "code",
   "execution_count": 36,
   "id": "588d9039",
   "metadata": {},
   "outputs": [
    {
     "data": {
      "text/html": [
       "<img src=\"./img/push.png\"/>"
      ],
      "text/plain": [
       "<IPython.core.display.Image object>"
      ]
     },
     "metadata": {},
     "output_type": "display_data"
    }
   ],
   "source": [
    "display(Image(url= \"./img/push.png\"))"
   ]
  },
  {
   "cell_type": "code",
   "execution_count": null,
   "id": "d9c9bf76",
   "metadata": {},
   "outputs": [],
   "source": []
  },
  {
   "cell_type": "markdown",
   "id": "7c12d53e",
   "metadata": {},
   "source": [
    "#### <font color='blue'> gcloud source repos list  </font>"
   ]
  },
  {
   "cell_type": "code",
   "execution_count": 37,
   "id": "fae64739",
   "metadata": {},
   "outputs": [
    {
     "data": {
      "text/html": [
       "<img src=\"./img/repos.list.png\"/>"
      ],
      "text/plain": [
       "<IPython.core.display.Image object>"
      ]
     },
     "metadata": {},
     "output_type": "display_data"
    }
   ],
   "source": [
    "display(Image(url= \"./img/repos.list.png\"))"
   ]
  },
  {
   "cell_type": "code",
   "execution_count": null,
   "id": "65b138b6",
   "metadata": {},
   "outputs": [],
   "source": []
  },
  {
   "cell_type": "markdown",
   "id": "fcb0e247",
   "metadata": {},
   "source": [
    "### 4.View file in repos in web"
   ]
  },
  {
   "cell_type": "code",
   "execution_count": 38,
   "id": "b1585a3b",
   "metadata": {},
   "outputs": [
    {
     "data": {
      "text/html": [
       "<img src=\"./img/repos.view.file.png\" width=\"500\" height=\"500\"/>"
      ],
      "text/plain": [
       "<IPython.core.display.Image object>"
      ]
     },
     "metadata": {},
     "output_type": "display_data"
    }
   ],
   "source": [
    "display(Image(url= \"./img/repos.view.file.png\", width=500, height=500))"
   ]
  },
  {
   "cell_type": "code",
   "execution_count": null,
   "id": "75a0d303",
   "metadata": {},
   "outputs": [],
   "source": []
  }
 ],
 "metadata": {
  "kernelspec": {
   "display_name": "Python 3 (ipykernel)",
   "language": "python",
   "name": "python3"
  },
  "language_info": {
   "codemirror_mode": {
    "name": "ipython",
    "version": 3
   },
   "file_extension": ".py",
   "mimetype": "text/x-python",
   "name": "python",
   "nbconvert_exporter": "python",
   "pygments_lexer": "ipython3",
   "version": "3.9.13"
  }
 },
 "nbformat": 4,
 "nbformat_minor": 5
}
