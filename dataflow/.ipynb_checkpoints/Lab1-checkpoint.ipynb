{
 "cells": [
  {
   "cell_type": "markdown",
   "id": "2330ec8a",
   "metadata": {},
   "source": [
    "## Lab for dataflow"
   ]
  },
  {
   "cell_type": "markdown",
   "id": "06dd6c8e",
   "metadata": {},
   "source": [
    "#### Reference:https://cloud.google.com/dataflow/docs/tutorials/dataflow-stream-to-bigquery#gcloud_4"
   ]
  },
  {
   "cell_type": "markdown",
   "id": "934ff4d1",
   "metadata": {},
   "source": [
    "#### This tutorial uses the following billable components of Google Cloud:\n",
    "\n",
    "Dataflow, Pub/Sub, Cloud Storage, Cloud Scheduler, BigQuery"
   ]
  },
  {
   "cell_type": "markdown",
   "id": "469d69a4",
   "metadata": {},
   "source": [
    "#### 1.Create a Cloud Storage bucket"
   ]
  },
  {
   "cell_type": "code",
   "execution_count": 2,
   "id": "c1617093",
   "metadata": {},
   "outputs": [],
   "source": [
    "# gsutil mb gs://test-todel-bucket01"
   ]
  },
  {
   "cell_type": "markdown",
   "id": "a23e978f",
   "metadata": {},
   "source": [
    "#### 2. Create a Pub/Sub topic and subscription"
   ]
  },
  {
   "cell_type": "code",
   "execution_count": 3,
   "id": "ae698e14",
   "metadata": {},
   "outputs": [],
   "source": [
    "#  gcloud pubsub topics create pubsubtopic01\n",
    "#  gcloud pubsub subscriptions create --topic pubsubtopic01 sub01"
   ]
  },
  {
   "cell_type": "markdown",
   "id": "842a486c",
   "metadata": {},
   "source": [
    "#### 3. Create and run Cloud Scheduler jobs"
   ]
  },
  {
   "cell_type": "code",
   "execution_count": 4,
   "id": "b0d4e986",
   "metadata": {},
   "outputs": [],
   "source": [
    "\n",
    "# gcloud scheduler jobs create pubsub positive-ratings-publisher --schedule=\"* * * * *\" --location=us-central1 --topic=\"pubsubtopic01\" --message-body='{\"url\":\"https://beam.apache.org/test001/\",\"review\":\"positive\"}'\n",
    "# gcloud scheduler jobs run --location=us-central1 positive-ratings-publisher\n",
    "# gcloud scheduler jobs create pubsub negative-ratings-publisher   --schedule=\"*/2 * * * *\"   --location=us-central1    --topic=\"pubsubtopic01\"   --message-body='{\"url\": \"https://beam.apache.org/test002/\", \"review\": \"negative\"}'\n",
    "# gcloud scheduler jobs run --location=us-central1  negative-ratings-publisher\n"
   ]
  },
  {
   "cell_type": "markdown",
   "id": "b37fa3df",
   "metadata": {},
   "source": [
    "#### 4.Create a BigQuery dataset"
   ]
  },
  {
   "cell_type": "code",
   "execution_count": 5,
   "id": "edda1aaf",
   "metadata": {},
   "outputs": [],
   "source": [
    "# bq --location=us-central1 mk my-project-1011-1012:tutorial_datasert"
   ]
  },
  {
   "cell_type": "markdown",
   "id": "5c49b129",
   "metadata": {},
   "source": [
    "#### 5.Run the pipeline"
   ]
  },
  {
   "cell_type": "code",
   "execution_count": 6,
   "id": "c6f93f36",
   "metadata": {},
   "outputs": [],
   "source": [
    "# Refer to guideline"
   ]
  },
  {
   "cell_type": "markdown",
   "id": "e0e2fa76",
   "metadata": {},
   "source": [
    "#### 6.View the results in BigQuery"
   ]
  },
  {
   "cell_type": "code",
   "execution_count": 7,
   "id": "c4051944",
   "metadata": {},
   "outputs": [],
   "source": [
    "# bq mk --table my-project-1011-1012:tutorial_datasert.tutorial url:STRING,review:STRING "
   ]
  }
 ],
 "metadata": {
  "kernelspec": {
   "display_name": "Python 3 (ipykernel)",
   "language": "python",
   "name": "python3"
  },
  "language_info": {
   "codemirror_mode": {
    "name": "ipython",
    "version": 3
   },
   "file_extension": ".py",
   "mimetype": "text/x-python",
   "name": "python",
   "nbconvert_exporter": "python",
   "pygments_lexer": "ipython3",
   "version": "3.9.13"
  }
 },
 "nbformat": 4,
 "nbformat_minor": 5
}
