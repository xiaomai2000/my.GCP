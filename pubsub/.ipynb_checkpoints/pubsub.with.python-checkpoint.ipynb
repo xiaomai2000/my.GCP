{
 "cells": [
  {
   "cell_type": "markdown",
   "id": "e251fbd1",
   "metadata": {},
   "source": [
    "The Google Cloud Pub/Sub service allows applications to exchange message reliably, quickly, and asynchronously. \n",
    "To do this, a data producer publishes messages to a Cloud Pub/Sub topic. A subscriber client then creates a subscription to that topic and consumes messages from the subscription. Cloud Pub/Sub persists messages that could not be delivered reliably for up to seven days.\n",
    "\n",
    "In this lab, you will learn how to get started publishing messages with Cloud Pub/Sub using the Python client library."
   ]
  },
  {
   "cell_type": "markdown",
   "id": "b1e1263b",
   "metadata": {},
   "source": [
    "### 1. Check project ID and env:"
   ]
  },
  {
   "cell_type": "code",
   "execution_count": 2,
   "id": "febe0fe9",
   "metadata": {},
   "outputs": [],
   "source": [
    "# gcloud auth list\n",
    "# gcloud config list project"
   ]
  },
  {
   "cell_type": "markdown",
   "id": "d10a9e84",
   "metadata": {},
   "source": [
    "### 2.Install the python client library"
   ]
  },
  {
   "cell_type": "code",
   "execution_count": null,
   "id": "86e66e9a",
   "metadata": {},
   "outputs": [],
   "source": [
    "#  pip install --upgrade google-cloud-pubsub\n",
    "#  git clone https://github.com/googleapis/python-pubsub.git\n",
    "#  cd python-pubsub/samples/snippets\n"
   ]
  },
  {
   "cell_type": "markdown",
   "id": "f09b6ed9",
   "metadata": {},
   "source": [
    "### 3. Create a topic"
   ]
  },
  {
   "cell_type": "code",
   "execution_count": null,
   "id": "dbc35ce7",
   "metadata": {},
   "outputs": [],
   "source": [
    "# python publisher.py $GOOGLE_CLOUD_PROJECT create MyTopic"
   ]
  },
  {
   "cell_type": "code",
   "execution_count": null,
   "id": "986800d8",
   "metadata": {},
   "outputs": [],
   "source": [
    "# python publisher.py $GOOGLE_CLOUD_PROJECT list"
   ]
  },
  {
   "cell_type": "markdown",
   "id": "f00be3e4",
   "metadata": {},
   "source": [
    "### 4. Create a subscription"
   ]
  },
  {
   "cell_type": "code",
   "execution_count": null,
   "id": "c952c74f",
   "metadata": {},
   "outputs": [],
   "source": [
    "#  python subscriber.py $GOOGLE_CLOUD_PROJECT create MyTopic MySub"
   ]
  },
  {
   "cell_type": "code",
   "execution_count": null,
   "id": "6602758f",
   "metadata": {},
   "outputs": [],
   "source": [
    "# python subscriber.py $GOOGLE_CLOUD_PROJECT list-in-project"
   ]
  },
  {
   "cell_type": "markdown",
   "id": "4044cb5f",
   "metadata": {},
   "source": [
    "### 5. Publish messages"
   ]
  },
  {
   "cell_type": "code",
   "execution_count": null,
   "id": "a24f9859",
   "metadata": {},
   "outputs": [],
   "source": [
    "# gcloud pubsub topics publish MyTopic --message \"Hello\""
   ]
  },
  {
   "cell_type": "markdown",
   "id": "a529779b",
   "metadata": {},
   "source": [
    "### 6. View messages"
   ]
  },
  {
   "cell_type": "code",
   "execution_count": null,
   "id": "2b31faaa",
   "metadata": {},
   "outputs": [],
   "source": [
    "# python subscriber.py $GOOGLE_CLOUD_PROJECT receive MySub"
   ]
  },
  {
   "cell_type": "markdown",
   "id": "ca49bdd7",
   "metadata": {},
   "source": [
    "### 7. Others"
   ]
  },
  {
   "cell_type": "code",
   "execution_count": null,
   "id": "2cc1f11c",
   "metadata": {},
   "outputs": [],
   "source": [
    "# export the messages to BigQuery"
   ]
  },
  {
   "cell_type": "code",
   "execution_count": null,
   "id": "027f6295",
   "metadata": {},
   "outputs": [],
   "source": [
    "# Step 1. Click the Topic name\n",
    "# Step 2. Click the \"Export to BigQuery\""
   ]
  },
  {
   "cell_type": "code",
   "execution_count": 6,
   "id": "47e3f2bf",
   "metadata": {},
   "outputs": [],
   "source": [
    "# Step 3. Create a BigQuery dataset and also the table in advance, remember to add a column with name \"data\" in the table\n"
   ]
  },
  {
   "cell_type": "code",
   "execution_count": 7,
   "id": "868cafdb",
   "metadata": {},
   "outputs": [],
   "source": [
    "# Step 4, Grant the service account of pub/sub to BigQuery table with editor role"
   ]
  },
  {
   "cell_type": "code",
   "execution_count": 8,
   "id": "8ba9980d",
   "metadata": {},
   "outputs": [],
   "source": [
    "# Step 5, follow the step to complete the rest settings."
   ]
  },
  {
   "cell_type": "code",
   "execution_count": 9,
   "id": "f71e4908",
   "metadata": {},
   "outputs": [],
   "source": [
    "# Step 6, send test messages to this newly created subscription, then you can run BigQuery \"Query\" for the table and you can see the message just inserted. "
   ]
  },
  {
   "cell_type": "code",
   "execution_count": null,
   "id": "acc7b56b",
   "metadata": {},
   "outputs": [],
   "source": []
  }
 ],
 "metadata": {
  "kernelspec": {
   "display_name": "Python 3 (ipykernel)",
   "language": "python",
   "name": "python3"
  },
  "language_info": {
   "codemirror_mode": {
    "name": "ipython",
    "version": 3
   },
   "file_extension": ".py",
   "mimetype": "text/x-python",
   "name": "python",
   "nbconvert_exporter": "python",
   "pygments_lexer": "ipython3",
   "version": "3.9.13"
  }
 },
 "nbformat": 4,
 "nbformat_minor": 5
}
